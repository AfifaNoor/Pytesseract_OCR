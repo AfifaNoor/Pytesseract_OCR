{
 "cells": [
  {
   "cell_type": "code",
   "execution_count": 2,
   "id": "08081bbf-a069-45ad-8ef8-8e17f9440f1f",
   "metadata": {},
   "outputs": [],
   "source": [
    "import pytesseract\n",
    "import cv2 "
   ]
  },
  {
   "cell_type": "code",
   "execution_count": 3,
   "id": "81b8b46b-c74e-40b7-bb83-86f223dd92f7",
   "metadata": {},
   "outputs": [],
   "source": [
    "# image = cv2.imread(\"OCR/data/index_02.JPG\")\n",
    "image = cv2.imread(\"C:\\Pytesseract_OCR\\data\\index_02 (1).jpg\")\n",
    "base_image = image.copy()"
   ]
  },
  {
   "cell_type": "code",
   "execution_count": 4,
   "id": "9f9f9e5b-2992-47cc-882c-cb39f16780bc",
   "metadata": {},
   "outputs": [],
   "source": [
    "gray = cv2.cvtColor(image, cv2.COLOR_BGR2GRAY)"
   ]
  },
  {
   "cell_type": "code",
   "execution_count": 5,
   "id": "f802c924-b6bd-4068-bd5d-de045fe1d716",
   "metadata": {},
   "outputs": [
    {
     "data": {
      "text/plain": [
       "True"
      ]
     },
     "execution_count": 5,
     "metadata": {},
     "output_type": "execute_result"
    }
   ],
   "source": [
    "cv2.imwrite(\"temp/index_gray.png\",gray)"
   ]
  },
  {
   "cell_type": "code",
   "execution_count": 6,
   "id": "c1a6ddf6-1ea8-4dc8-8a73-4de044e7bf7a",
   "metadata": {},
   "outputs": [],
   "source": [
    "blur =  cv2.GaussianBlur(gray, (7,7),0)"
   ]
  },
  {
   "cell_type": "code",
   "execution_count": 7,
   "id": "5032948a-2104-4474-b5ef-fe6a68135430",
   "metadata": {},
   "outputs": [
    {
     "data": {
      "text/plain": [
       "True"
      ]
     },
     "execution_count": 7,
     "metadata": {},
     "output_type": "execute_result"
    }
   ],
   "source": [
    "cv2.imwrite(\"temp/index_blur.png\",blur)"
   ]
  },
  {
   "cell_type": "code",
   "execution_count": 8,
   "id": "49eabe4e-9403-48cf-9ead-9dc899db56f6",
   "metadata": {},
   "outputs": [],
   "source": [
    "#Threshold"
   ]
  },
  {
   "cell_type": "code",
   "execution_count": 9,
   "id": "99cb39e8-783f-482f-a766-05f9b29b90f2",
   "metadata": {},
   "outputs": [],
   "source": [
    "thresh = cv2.threshold(blur, 0 , 255, cv2.THRESH_BINARY_INV + cv2.THRESH_OTSU)[1]"
   ]
  },
  {
   "cell_type": "code",
   "execution_count": 10,
   "id": "4fa1fbad-676f-48c6-aa79-e0f60c20d0cf",
   "metadata": {},
   "outputs": [
    {
     "data": {
      "text/plain": [
       "True"
      ]
     },
     "execution_count": 10,
     "metadata": {},
     "output_type": "execute_result"
    }
   ],
   "source": [
    "cv2.imwrite(\"temp/index_thresh.png\",thresh)"
   ]
  },
  {
   "cell_type": "code",
   "execution_count": 11,
   "id": "e529a1de-48fe-4f16-9a9d-d65a25339017",
   "metadata": {},
   "outputs": [],
   "source": [
    "#individual kernal and dilation"
   ]
  },
  {
   "cell_type": "code",
   "execution_count": 12,
   "id": "7e338f4a-d2e0-439d-bd60-5950f627b5c9",
   "metadata": {},
   "outputs": [],
   "source": [
    "kernal =  cv2.getStructuringElement (cv2.MORPH_RECT,(3,13))"
   ]
  },
  {
   "cell_type": "code",
   "execution_count": 13,
   "id": "b079c962-949a-4fc4-b7fa-7715afbd24da",
   "metadata": {},
   "outputs": [],
   "source": [
    "dilate = cv2.dilate(thresh,kernal , iterations=1)"
   ]
  },
  {
   "cell_type": "code",
   "execution_count": 14,
   "id": "c939df7d-20f3-4872-a271-0abef3f20fce",
   "metadata": {},
   "outputs": [
    {
     "data": {
      "text/plain": [
       "True"
      ]
     },
     "execution_count": 14,
     "metadata": {},
     "output_type": "execute_result"
    }
   ],
   "source": [
    "cv2.imwrite(\"temp/index_dilate.png\",dilate)"
   ]
  },
  {
   "cell_type": "code",
   "execution_count": 15,
   "id": "a319c28d-0c11-417b-b4b4-df8d08b049a3",
   "metadata": {},
   "outputs": [],
   "source": [
    "\n",
    "cnts = cv2.findContours(dilate, cv2.RETR_EXTERNAL, cv2.CHAIN_APPROX_SIMPLE)"
   ]
  },
  {
   "cell_type": "code",
   "execution_count": 16,
   "id": "6b8db562-4d2e-4582-a105-43c8dc5c1990",
   "metadata": {},
   "outputs": [],
   "source": [
    "cnts = cnts[0] if len(cnts) == 2 else cents[1]"
   ]
  },
  {
   "cell_type": "code",
   "execution_count": 17,
   "id": "362f4c43-32a1-4d61-ae37-1d996892e62e",
   "metadata": {},
   "outputs": [],
   "source": [
    "#this will organise the box in to left to right \n",
    "cnts = sorted(cnts, key=lambda x: cv2.boundingRect(x)[0])"
   ]
  },
  {
   "cell_type": "code",
   "execution_count": 18,
   "id": "fc697993-db1f-45f0-8327-2918acefac31",
   "metadata": {},
   "outputs": [
    {
     "data": {
      "text/plain": [
       "True"
      ]
     },
     "execution_count": 18,
     "metadata": {},
     "output_type": "execute_result"
    }
   ],
   "source": [
    "results  = []\n",
    "for c in cnts:\n",
    "    x, y, w, h = cv2.boundingRect(c  )\n",
    "    if h > 200 and w > 20: #if the height and width are gretater than 20 px to divide the page in to three column Boundig box \n",
    "        roi = image[y:y+h, x:x+h]\n",
    "        cv2.imwrite(\"temp/index_roi.png\", roi)\n",
    "        cv2.rectangle(image, (x, y), (x+w, y+h), (36, 255, 12), 2)\n",
    "        ocr_result = pytesseract.image_to_string(roi)\n",
    "        ocr_result = ocr_result.split(\"\\n\")\n",
    "        for item in ocr_result:\n",
    "            results.append(item)\n",
    "cv2.imwrite(\"temp/index_bbox_new.png\", image)"
   ]
  },
  {
   "cell_type": "code",
   "execution_count": 19,
   "id": "c6b0ce59-7c88-40f5-9eae-76cae66a5aa2",
   "metadata": {},
   "outputs": [
    {
     "name": "stdout",
     "output_type": "stream",
     "text": [
      "['A. v. E.', '', 'Aaron 38, 20. 123, 18. 168, 6. 203, 38.', '', 'Abacuc propheta 36,5. 319, 29. 373, 23.', '', 'Abagarus rex Edessenorum 382, 13.', '', 'Abdenago 585, 3.', '', 'Abel 26, 11.', '', 'Abigail 606, 6.', '', 'Abraham 26,18. 124,18. 133, 23.', '', '264. 302, 13. 303, 13. 320, 40.', '', '496, 22.', '', 'Absalon 102, 5.', '', 'Acgfredi v. Ecgtridus.', '', 'Achab rex 504, 1.', '', 'Achaz rex 504,1.', '', 'Achiel 606, 19.', '', 'Achilon 496, 26.', '', 'Adal-, Adel-, Adhel-, Aedel-, Aedel-,', '', 'Aedil-, Aedil- Edel-, Edil-, Athal-,', '', 'Athel-, Athil-, Aethel-, Aethil-,', '', 'Ethel-.', '', 'Aedelbaldusabb.S. Petri Wiremuthen-', '', 'sis et S. Pauli Girwensis 110, 28.', '', 'Aedilberctus, Aedilberthus ep. Ha-', '', 'gulstadensis, antea ep. Candidae|', '', 'casae sive Witernensis 27,43. 72,16.', '', 'Adalbertus, Aedilberctus sive Magus,', '', 'discipulus et capellanus Arnonis)', '', 'archiep. Salisburg., postea_abb.', '', 'Ferrariensis 254, 1. 320, 41. 322, 19.)', '', '416. 418,14. 422, 10.', '', 'Adalpertabb.[Tegernseensis ?]497,23..', '', 'Adalbertus presb. monasterii 8. Mar-', '', 'tini Turonensis 399, 3.', '', 'Aedilburga, Edilburga, cognom. Euge-', 'nia, abbatissa Flaedanbyrgensis,', 'filia Offae regis Merciorum 78, 1.', '148, 32. 149, 33 [2]° 458.', '', 'Aethelfleda uxor Aethilredi regis', 'Northanhumbrorum, filia Offae’', 'regis Merciorum 149, 14. 150, 4.', '', 'Adalgarius ep. [Trecensis?] 510, 10,', '', 'Adelgisa filia Arichis ducis Bene-', 'ventani 506, 27.', '', 'Adalgisus fil. Desiderii regis Lango-|', 'bardorum 503, 45.', '', 'Epistozae IV.', '', ' ', '', ' ', '', ' ', '', '‘|| Adalhardus,', '', ' ', '', 'Aethelhardus, Aethilhardus, Athel-', '', '| hardus, Athilhardus, Aedelhardus,', 'Aedelhardus, Aedilhardus, Aedil-', 'hardus, Ethelardus, Edelardus', 'archiep. Cantuariensis Dorovernen-', 'sis ecclesiae metropolitanus 45, 9.', '49,9. 128,2. 145, 31, 147,5. 188. 189.', '192, 24. 193, 5[?]. 374376, v9. 377, 4.', '412. 414,1 (2) 448. 449 [2]. 450 [2].', '451, 8 [2]. 479. 480. 614, 10. 21. 36.', '', '. Antonius, abb,', '', 'Corbeiae veteris, fil. Bernhardi', '', 'ae Caroli Magni 34, 25. 290.', '1. 299. 300. 364. 365. 381. 382.', '', '509. 566,16; frater: Bernarius;', '', 'fratres 381,25; soror: Gundrada.', '', '| Adalmondus, Aethelmodus ep. Scire-', 'burnensis 29, 9.', '', 'Adelperga uxor Arichis ducis Bene-', 'ventani, filia Desiderii regis Lango-', 'bardorum 506, 5; liberi: Romual-', 'dus, Grimoaldus, Adelgisa.', '', '| Adalpert v, Adalbertus.', '', 'Aedelredus, Aedilredus, Aethelredus,', 'Aethilredus, Hedilredus rex Nor-', 'thanhumbrorum, fil. Aedelwaldi', 'Moll regis 383,15. 35,8. 41, 19.', '49, 16. 71, 20. 146,2. 147,10. 150, 6.', '151, 35. 171,17. 377,31; mater:', 'Aedilthyda; uxor: Aethelfleda;', 'famulus: Torchmundus.', '', 'Adhelricus diaconus, discipulus et', 'capellanus Arnonis archiep. Salis-', 'burg., postea abbas Ferrariensis,', 'archiepiscopus Senonensis, 418, 14.', '422, 10.', '', 'Aedilthyda, Edilthruda uxor Aethel-', 'waldi Moll regis Northanhumbro-', 'rum, postea abbatissa 120,12. 151,17.', '152, 31 (?]; filius: Aethelredus rex', 'Northanhumbrorum.', '', 'Edildryda uxor Ecgfridi regis Nor-', 'thanhumbrorum, postea abbatissa', '(+ 679) 417,15.', '', 'Aedelwaldus, Aethelwoldus Moll rex', 'Northanhumbrorum 33, 16; uxor:', 'Aedilthyda; filius: Aethelredus.', '', 'Adalwinus ep. Reginensis 421, 24.', '422, 21. 424, 3.', '', ' ', '', ' ', '', 'Aethiluuinus episcopus 28, 2.', '', 'Adam 124, 201,1. 226,7. 264, 21.', '379, 29. 466, 36-—468, v5. 591, 34.', '', 'Adam abb. monasterii Gemeticensis', '579.', '', 'Adaula abbatissa Anglica 112, 4.', '', 'Adoredus, Hathoredus ep. Hwiccio-', 'rum [Wigorniensis] 29, 10.', '', 'Adrianus v. Hadrianus.', '', 'Adriaticum mare 324, 41.', '', 'Aedel-, Aedil-, v. Adal-.', '', 'Aegesippus [i. e. Hegesippus] 501, 11.', '', 'Aegil v. Eigil.', '', 'Aegyptus, Egyptus 123,19. 554, 17;', '‘Acgyptii, Aegyptiaci 231. 232, 17.', '467, 36. 567,6. 571,33; Egyptiacae', 'divitiae 470, 22; Aegyptiacae tene-', 'brae 232, 3; Acgy pit rex: Pharao;', 'Aegyptiacascola, Aegyptiaci pueri', 'v. Carolus I imperator.', '', 'Aeine, Aesne, Esne ep. Herefordensis', '', ', 6.', 'Aelberhtus archiep. Eboracensis, ma-', '‘ister Alcvini abbatis (162, 24]. 167,s.', '171,19]. [177,5]. [224,20]. [239, 28].', '332, 28]. [377,32]. (378, 31]. [429,27', '', 'Aelfvaldus, Aelfwaldus rex Nor-', 'thanhymbrorum, [Transhymbranae', 'gentis] 20, 27. 28, 11. 43,8. 377, 31.', '', 'Aelim v. Alim.', '', 'Aeneades 39, 21; v. Virgilius.', '', 'Aesculapius, Scolapius 397, 25.', '', 'Aesne v. Aeine.', '', 'Aethel-, Aethil- v. Adal-.', '', 'Aethiopia 478, 5.', '', 'Africa 124,16; Afer: Melchiades', 'papa; Africanum concilium 526,33.', '', 'Africanus, sc. Scipio Afr. 575, 36.', '', 'Agar 584, 38.', '', 'Agareni, Aggareni 32, 19. 601, 21;', 'v, Saraceni.', '', 'Agathensis synodus 396,', '', 'Aginus ep. Constantiensis 117, 32.', '', '129, 19.', '', 'xf}', '\\x0c', 'Aethelhardus, Aethilhardus, Athel-', 'hardus, Athilhardus, Aedelhardus,', 'Aedelhardus, Aedilhardus, Aedil-|', 'hardus, Ethelardus, Edelardus', 'archiep. Cantuariensis Dorovernen-', '', 'sis ecclesiae metropolitanus 46, 9,', '', '49,9. 128,2. 145, 31, 147,5. 188. 189.', '', '192, 24. 193, 5 [?]. 374376, v9. 377, 4,', '', '412. 414,1 (2) 448. 449 [2]. 450 [2].', '', '451, 8 [2]. 479. 480. 614, 10. 21. 36.', '', 'Adalhardus, . Antonius, abb,', 'Corbeiae veteris, fil. Bernhardi', 'ae Caroli Magni 34, 25. 290.', '', '1. 299. 300. 364. 365, 381. 382,', '509. 566,16; frater: Bernarius;', 'fratres 381,25; soror: Gundrada,', '', 'Adalmondus, Aethelmodus ep. Scire-', 'burnensis 29, 9.', '', 'Adelperga uxor Arichis ducis Bene-', 'ventani, filia Desiderii regis Lango-', 'bardorum 506, 5; liberi: Romual-', 'dus, Grimoaldus, Adelgisa.', '', 'Adalpert v, Adalbertus.', '', 'Aedelredus, Aedilredus, Aethelredus,', 'Aethilredus, Hedilredus rex Nor-|', 'thanhumbrorum, fil. Aedelwaldi', 'Moll regis 33,15. 35,8. 41, 19.', '49,16. 71, 20, 146,2. 147,10. 150, 6.', '151, 35. 171,17. 377,31; mater:', 'Aedilthyda; uxor: Aethelfleda;', 'famulus: Torchmundus.', '', 'Adhelricus diaconus, discipulus et)', 'capellanus Arnonis archiep. Salis-', 'burg., postea abbas Ferrariensis,', 'archiepiscopus Senonensis, 418, 14.', '422, 10.', '', 'Aedilthyda, Edilthruda uxor Aethel-', 'waldi Moll regis Northanhumbro-', 'rum, postea abbatissa 120,12. 151,17.', '152,31 (?]; filius: Aethelredus rex', 'Northanhumbrorum.', '', 'Edildryda uxor Ecgfridi regis Nor-', 'thanhumbrorum, postea abbatissa', '(F679) 417,15.', '', 'Aedelwaldus, Aethelwoldus Moll rex’', 'Northanhumbrorum 33, 16; uxor:)', 'Aedilthyda; filius: Aethelredus,', '', 'Adalwinus ep. Reginensis 421, 24.', '422, 21. 424, 3.', '', ' ', '', ' ', '', ' ', '', ' ', '', ' ', '', 'Aethiluuinus episcopus 28, 2.', '', 'Adam 124, 201,1. 226,7. 264, 21.', '379, 29. 466, 36-—468, v5. 591, 34.', '', 'Adam abb. monasterii Gemeticensis', '579.', '', 'Adaula abbatissa Anglica 112, 4.', '', 'Adoredus, Hathoredus ep. Hwiccio-', 'rum [Wigorniensis] 29, 10.', '', 'Adrianus v. Hadrianus.', '', 'Adriaticum mare 324, 41.', '', 'Aedel-, Aedil-, v. Adal-.', '', 'Aegesippus [i. e. Hegesippus] 501, 11.', '', 'Aegil v. Eigil.', '', 'Aegyptus, Egyptus 123,19. 554, 17;', '‘Acgyptii, Aegyptiaci 231. 232, 17.', '467, 36. 567,6. 571,33; Egyptiacae', 'divitiae 470, 22; Aegyptiacae tene-', 'brae 232, 3; Aegyptt rex: Pharao;', 'Aegyptiacascola, Aegyptiaci pueri', 'v. Carolus I imperator.', '', 'Aeine, Aesne, Esne ep. Herefordensis', '', ', 6.', 'Aelberhtus archiep. Eboracensis, ma-', '‘ister Alcvini abbatis (162, 24]. 167,s.', '171,19]. [177,5]. [224,20]. [239, 28].', '332, 28]. [377,32]. (378, 31]. [429,27].', '', 'Aelfvaldus, Aelfwaldus rex Nor-', 'thanhymbrorum, [Transhymbranae', 'gentis] 20, 27. 28, 11. 43,8. 377, 31.', '', 'Aelim v. Alim.', '', 'Aeneades 39, 21; v. Virgilius.', '', 'Aesculapius, Scolapius 397, 25.', '', 'Aesne v. Aeine.', '', 'Aethel-, Aethil- v. Adal-.', '', 'Aethiopia 478, 5.', '', 'Africa 124,16; Afer: Melchiades', 'papa; Africanum concilium 526,33.', '', 'Africanus, sc. Scipio Afr. 575, 36.', '', 'Agar 584, 38.', '', 'Agareni, Aggareni 32, 19. 601, 21;', 'v, Saraceni.', '', 'Agathensis synodus 396,', '', 'Aginus ep. Constantiensis 117, 32.', '', '129, 19.', '\\x0c', 'Aethiluuinus episcopus 28, 2.', '', 'Adam 124. 201,1. 226,7. 264, 21,]', '', '379, 29. 466, 36-—468, v5. 591, 34.', '', 'Adam abb. monasterii Gemeticensis', '', '579.', '', 'Adaula abbatissa Anglica 112, 4.', '', 'Adoredus, Hathoredus ep. Hwiccio-|', 'rum [Wigorniensis] 29, 10.', '', 'Adrianus v. Hadrianus.', '', 'Adriaticum mare 324, 41.', '', 'Aedel-, Aedil-, v. Adal-.', '', 'Aegesippus [i. e. Hegesippus] 501, 11,', '', 'Aegil v. Eigil.', '', 'Aegyptus, Egyptus 123,19. 554, 17;', '‘Aegyptii, Aegyptiaci 231. 232, 17,', '467, 36. 567,6. 571,33; Egyptiacae’', 'divitiae 470, 22; Aegyptiacae tene-|', 'brae 232, 3; Aegyptt rex: Pharao;', 'Aegyptiacascola, Aegyptiaci pueri', 'v. Carolus I imperator.', '', 'Aeine, Aesne, Esne ep. Herefordensis’', '', ', 6.', 'Aelberhtus archiep. Eboracensis, ma-', '‘ister Alcvini abbatis (162, 24]. 167,s.', '171,19]. [177,5]. [224,20]. [239, 28].', '332, 28]. [377,32]. (378, 31]. [429, 27].)', '', 'Aelfvaldus, Aelfwaldus rex Nor-', 'thanhymbrorum, [Transhymbranae', 'gentis] 20, 27. 28, 11. 43, 8. 377, 31.', '', 'Aelim v. Alim.', '', 'Aeneades 39, 21; v. Virgilius.', '', 'Aesculapius, Scolapius 397, 25.', '', 'Aesne v. Aeine.', '', 'Aethel-, Aethil- v. Adal-.', '', 'Aethiopia 478, 5,', '', 'Africa 124, 16; Afer: Melchiades', 'papa; Africanum concilium 526,33.', '', 'Africanus, se. Scipio Afr. 575, 36.', '', 'Agar 584, 3s.', '', 'Agareni, Aggareni 32, 19. 601, 21;', 'v, Saraceni.', '', 'Agathensis synodus 396,', '', 'Aginus ep. Constantiensis 117, 32.', '', '129, 19.', '', ' ', '', ' ', '\\x0c']\n"
     ]
    }
   ],
   "source": [
    "print(results)"
   ]
  },
  {
   "cell_type": "code",
   "execution_count": 20,
   "id": "ccdc1501-70c7-41e6-a488-3ead6d4ae2c7",
   "metadata": {},
   "outputs": [],
   "source": [
    "# for item  in results:\n",
    "#     item = item.strip().replace(\"\\n\" , \"\")\n",
    "#     item = item.split(\" \")[0]\n",
    "#     if len(item) > 0:\n",
    "#         if item[0].isupper() and item[0] == \"A\": # if the items first letter is in uppercase \n",
    "#             print(item)\n",
    "    "
   ]
  },
  {
   "cell_type": "code",
   "execution_count": 21,
   "id": "b2ec32a5-6777-4852-a31c-b6fe761929aa",
   "metadata": {},
   "outputs": [],
   "source": [
    "# for item  in results:\n",
    "#     item = item.strip().replace(\"\\n\" , \"\")\n",
    "#     item = item.split(\" \")[0]\n",
    "#     if len(item) > 0:\n",
    "#         if item[0] == \"A\" and \"-\" not in item: # if the items first letter is in uppercase \n",
    "#             item = item.split(\".\")[0].replace(\",\",\"\").replace(\";\",\"\")\n",
    "#             print(item)\n",
    "    "
   ]
  },
  {
   "cell_type": "code",
   "execution_count": 22,
   "id": "8d24e2c8-7900-452f-ab72-dfe571c6cd5d",
   "metadata": {},
   "outputs": [],
   "source": [
    "entities = []\n",
    "for item  in results:\n",
    "    item = item.strip().replace(\"\\n\" , \"\")\n",
    "    item = item.split(\" \")[0]\n",
    "    if len(item) > 2:\n",
    "        if item[0] == \"A\" and \"-\" not in item: # if the items first letter is in uppercase \n",
    "            item = item.split(\".\")[0].replace(\",\",\"\").replace(\";\",\"\")\n",
    "            entities.append(item)"
   ]
  },
  {
   "cell_type": "code",
   "execution_count": 23,
   "id": "f987260e-19a3-44cb-aae5-a4b96b94da6c",
   "metadata": {},
   "outputs": [
    {
     "name": "stdout",
     "output_type": "stream",
     "text": [
      "['Aaron', 'Abacuc', 'Abagarus', 'Abdenago', 'Abel', 'Abigail', 'Abraham', 'Absalon', 'Acgfredi', 'Achab', 'Achaz', 'Achiel', 'Achilon', 'Aedelbaldusabb', 'Aedilberctus', 'Adalbertus', 'Adalpertabb', 'Adalbertus', 'Aedilburga', 'Aethelfleda', 'Adalgarius', 'Adelgisa', 'Adalgisus', 'Aethelhardus', 'Aedelhardus', 'Adelperga', 'Aedelredus', 'Aethilredus', 'Aedilthyda', 'Adhelricus', 'Aedilthyda', 'Aedelwaldus', 'Aedilthyda', 'Adalwinus', 'Aethiluuinus', 'Adam', 'Adam', 'Adaula', 'Adoredus', 'Adrianus', 'Adriaticum', 'Aegesippus', 'Aegil', 'Aegyptus', 'Aegyptiacascola', 'Aeine', 'Aelberhtus', 'Aelfvaldus', 'Aelim', 'Aeneades', 'Aesculapius', 'Aesne', 'Aethiopia', 'Africa', 'Africanus', 'Agar', 'Agareni', 'Agathensis', 'Aginus', 'Aethelhardus', 'Aedelhardus', 'Adalhardus', 'Adalmondus', 'Adelperga', 'Adalpert', 'Aedelredus', 'Aethilredus', 'Aedilthyda', 'Adhelricus', 'Aedilthyda', 'Aedelwaldus', 'Aedilthyda', 'Adalwinus', 'Aethiluuinus', 'Adam', 'Adam', 'Adaula', 'Adoredus', 'Adrianus', 'Adriaticum', 'Aegesippus', 'Aegil', 'Aegyptus', 'Aegyptiacascola', 'Aeine', 'Aelberhtus', 'Aelfvaldus', 'Aelim', 'Aeneades', 'Aesculapius', 'Aesne', 'Aethiopia', 'Africa', 'Africanus', 'Agar', 'Agareni', 'Agathensis', 'Aginus', 'Aethiluuinus', 'Adam', 'Adam', 'Adaula', 'Adoredus', 'Adrianus', 'Adriaticum', 'Aegesippus', 'Aegil', 'Aegyptus', 'Aegyptiacascola', 'Aeine', 'Aelberhtus', 'Aelfvaldus', 'Aelim', 'Aeneades', 'Aesculapius', 'Aesne', 'Aethiopia', 'Africa', 'Africanus', 'Agar', 'Agareni', 'Agathensis', 'Aginus']\n"
     ]
    }
   ],
   "source": [
    "print(entities)"
   ]
  },
  {
   "cell_type": "code",
   "execution_count": 24,
   "id": "6d28c6b1-fade-433e-85ee-f9f064b528e6",
   "metadata": {},
   "outputs": [],
   "source": [
    "#remove Duplicate \n",
    "entities = list(set(entities))"
   ]
  },
  {
   "cell_type": "code",
   "execution_count": 25,
   "id": "3c1f9a3f-2422-4d2e-ab4b-22aba97d4caf",
   "metadata": {},
   "outputs": [
    {
     "name": "stdout",
     "output_type": "stream",
     "text": [
      "['Adaula', 'Abdenago', 'Adalbertus', 'Achiel', 'Aethiluuinus', 'Achab', 'Aegil', 'Achaz', 'Aegyptiacascola', 'Aesne', 'Adelgisa', 'Abigail', 'Abacuc', 'Agareni', 'Abel', 'Aedilberctus', 'Absalon', 'Adam', 'Adalgisus', 'Agar', 'Aethelhardus', 'Aedelredus', 'Aeine', 'Agathensis', 'Aginus', 'Africa', 'Aethiopia', 'Achilon', 'Adelperga', 'Abraham', 'Adalwinus', 'Adoredus', 'Aelim', 'Aethilredus', 'Adalpert', 'Aaron', 'Aedilthyda', 'Aeneades', 'Aedilburga', 'Aegyptus', 'Adriaticum', 'Africanus', 'Aelfvaldus', 'Aesculapius', 'Adalpertabb', 'Aedelhardus', 'Adhelricus', 'Abagarus', 'Aelberhtus', 'Adalhardus', 'Aegesippus', 'Acgfredi', 'Aedelbaldusabb', 'Aethelfleda', 'Adrianus', 'Aedelwaldus', 'Adalgarius', 'Adalmondus']\n"
     ]
    }
   ],
   "source": [
    "print (entities)"
   ]
  },
  {
   "cell_type": "code",
   "execution_count": 26,
   "id": "079ed722-af31-4971-8c8e-bdb63c9e35c5",
   "metadata": {},
   "outputs": [],
   "source": [
    "entities.sort()"
   ]
  },
  {
   "cell_type": "code",
   "execution_count": 27,
   "id": "a784ce9c-8cb4-49eb-a7e7-843e976b05b2",
   "metadata": {},
   "outputs": [
    {
     "name": "stdout",
     "output_type": "stream",
     "text": [
      "['Aaron', 'Abacuc', 'Abagarus', 'Abdenago', 'Abel', 'Abigail', 'Abraham', 'Absalon', 'Acgfredi', 'Achab', 'Achaz', 'Achiel', 'Achilon', 'Adalbertus', 'Adalgarius', 'Adalgisus', 'Adalhardus', 'Adalmondus', 'Adalpert', 'Adalpertabb', 'Adalwinus', 'Adam', 'Adaula', 'Adelgisa', 'Adelperga', 'Adhelricus', 'Adoredus', 'Adrianus', 'Adriaticum', 'Aedelbaldusabb', 'Aedelhardus', 'Aedelredus', 'Aedelwaldus', 'Aedilberctus', 'Aedilburga', 'Aedilthyda', 'Aegesippus', 'Aegil', 'Aegyptiacascola', 'Aegyptus', 'Aeine', 'Aelberhtus', 'Aelfvaldus', 'Aelim', 'Aeneades', 'Aesculapius', 'Aesne', 'Aethelfleda', 'Aethelhardus', 'Aethilredus', 'Aethiluuinus', 'Aethiopia', 'Africa', 'Africanus', 'Agar', 'Agareni', 'Agathensis', 'Aginus']\n"
     ]
    }
   ],
   "source": [
    "print (entities)"
   ]
  },
  {
   "cell_type": "code",
   "execution_count": null,
   "id": "39f024e4-aba3-4a89-b694-46920e474ee3",
   "metadata": {},
   "outputs": [],
   "source": []
  }
 ],
 "metadata": {
  "kernelspec": {
   "display_name": "GCP Cloud Vision",
   "language": "python",
   "name": "gcp-cloud-vision"
  },
  "language_info": {
   "codemirror_mode": {
    "name": "ipython",
    "version": 3
   },
   "file_extension": ".py",
   "mimetype": "text/x-python",
   "name": "python",
   "nbconvert_exporter": "python",
   "pygments_lexer": "ipython3",
   "version": "3.11.5"
  }
 },
 "nbformat": 4,
 "nbformat_minor": 5
}
