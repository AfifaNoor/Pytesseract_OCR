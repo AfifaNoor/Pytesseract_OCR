{
 "cells": [
  {
   "cell_type": "code",
   "execution_count": 5,
   "id": "e473c30e-8c56-492a-859c-c38d04340774",
   "metadata": {},
   "outputs": [
    {
     "name": "stdout",
     "output_type": "stream",
     "text": [
      "(1672, 1236, 3)\n"
     ]
    }
   ],
   "source": [
    "import pytesseract\n",
    "import cv2\n",
    "\n",
    "\n",
    "image = cv2.imread('data/sample_mgh.jpg')\n",
    "im_h, im_w, im_d = image.shape\n",
    "print(image.shape)\n",
    "base_image = image.copy()\n",
    "\n",
    "gray = cv2.cvtColor(image, cv2.COLOR_BGR2GRAY)\n",
    "blur = cv2.GaussianBlur(gray, (7,7), 0)\n",
    "thresh = cv2.threshold(blur, 0, 255, cv2.THRESH_BINARY_INV + cv2.THRESH_OTSU)[1]\n",
    "\n",
    "# Create rectangular structuring element and dilate\n",
    "kernel = cv2.getStructuringElement(cv2.MORPH_RECT, (50,10))\n",
    "dilate = cv2.dilate(thresh, kernel, iterations=1)\n",
    "\n",
    "# Find contours and draw rectangle\n",
    "cnts = cv2.findContours(dilate, cv2.RETR_EXTERNAL, cv2.CHAIN_APPROX_SIMPLE)\n",
    "cnts = cnts[0] if len(cnts) == 2 else cnts[1]\n",
    "cnts = sorted(cnts, key=lambda x: cv2.boundingRect(x)[1])\n",
    "for c in cnts:\n",
    "    x,y,w,h = cv2.boundingRect(c)\n",
    "    if h < 20 and w > 250:\n",
    "        roi = base_image[0:y+h, 0:x+im_w]\n",
    "        cv2.rectangle(image, (x, y), (x + w, y + h), (36,255,12), 2)\n",
    "        \n",
    "output = cv2.imwrite(\"temp/output.png\", roi)"
   ]
  },
  {
   "cell_type": "code",
   "execution_count": 6,
   "id": "89b2ba94-395f-42eb-940e-408afb8e67b6",
   "metadata": {},
   "outputs": [
    {
     "data": {
      "text/plain": [
       "True"
      ]
     },
     "metadata": {},
     "output_type": "display_data"
    }
   ],
   "source": [
    "display(output)"
   ]
  },
  {
   "cell_type": "code",
   "execution_count": 2,
   "id": "4ccbf676-8622-485d-bd07-fb0554116927",
   "metadata": {},
   "outputs": [],
   "source": [
    "ocr_result_original = pytesseract.image_to_string(roi)"
   ]
  },
  {
   "cell_type": "code",
   "execution_count": 3,
   "id": "420313dc-7584-48d1-a8ff-8972423e3c22",
   "metadata": {},
   "outputs": [
    {
     "name": "stdout",
     "output_type": "stream",
     "text": [
      "18 ALCVINI EPISTOLAE. 1.\n",
      "\n",
      "1,\n",
      "\n",
      "773-786 Alevinus amicum in monasterium se abditurum confirmat. De Benedicto monacho.\n",
      "\n",
      "773—786.\n",
      "Cod. H fol. 61'—62.\n",
      "Edd. F 211, J. 8, — Migne col. 485.\n",
      "\n",
      "DILECTISSIMO* AMICO TOTIUS PROSPERITATIS PRAESENTIS ET AETERNAE\n",
      "BEATITUDINIS PERPETUAM SALUTEM.\n",
      "Magna mihi laetitia est de bona voluntate vestra, quam audivi a fratre nostro\n",
      "Benedicto! in vobis esse. Opto atque Deum deprecor, ut citius cum omni convenien-\n",
      "Pont tia perficiatur. Scriptum est enim: ‘Ne tardes converti ad dominum Deum; quia\n",
      "nescis, quid ventura pariat dies’, Erue te de harum carcere tribulationum, quae in\n",
      "Ps. 33, 20.hoe mundo fidelium animos torquere solent®; sicut scriptum est: ‘Multae tribulationes\n",
      "iustorum’; ut, quod sequitur, tibi evenire merearis: ‘Sed de his omnibus liberavit eos\n",
      "cf. Luc.9,62. Dominus’. Et cave diligentissime, ne qua te, aratrum Domini tenentem, iniustitia\n",
      "retro revocet. Nemo miles sarcinis alienis onustus ad bella bene procedit, nisi armis\n",
      "tantummodo victricibus, vel ad defensionem sui vel ad laesionem adversarii.\n",
      "\n",
      "Omnia quae vobis demandare necessaria videbantur mihi fidelissimo fratri Bene-\n",
      "dicto dixi: loca, adiutorium et animi constantiam.\n",
      "\n",
      "Sed scire debes, quod in omni loco, ubi hominum conversatio est plurimorum,\n",
      "utrumque et boni et mali inveniuntur. Sed sapiens animus utrorumque utatur magi-\n",
      "sterio; id est, ut malorum caveat malitiam, et bonorum sequatur iustitiam. Mens\n",
      "regalis®, quae homini data est, discernere debet, quae sint cavenda et quae sint se-\n",
      "quenda; nec multum de loco diffidere vel etiam confidere. Quia, si locus adiuvare\n",
      "potuisset, numquam angelus de caelo cecidisset vel homo in paradyso positus pec-\n",
      "\n",
      "Lue. 17,21. casset. Sed regnum Dei, ut ipsa veritas ait, intra nosmetipsos quaerendum est. Et\n",
      "\n",
      "Ps, $3, 10. psalmista: ‘Timete Dominum omnes sancti eius, quia nihil deest timentibus eum’.\n",
      "Timor Domini peccare vetat, dum homo ubique Dei sibi praesentiam agnoscit et timet.\n",
      "Quem® qui conscium habet cogitationum verborum vel operum suorum, hunc habi-\n",
      "turus est et iudicem. Nec eum quicquam effugit nostri nec aliquid iniudicatum de-\n",
      "\n",
      "Anjgi221% miserit; quia, sicut dictum est, unicuique reddet secundum opera sua, Dum tempus\n",
      "habemus, operemur bonum, quia post mortem non est tempus operandi, sed tempus\n",
      "mercedem recipiendi. Haec cogitans, carissime fili, tui ipsius curam habeto, memor,\n",
      "de quantis te liberavit Deus periculis. Illum ama et ad eius misericordiam conver-\n",
      "tere, ut deleantur delicta tua et merearis locum refrigerii lucis et pacis recipere cum\n",
      "sanctis Dei. Meique memor cum Dei servientibus pro teque intercedentibus valeas\n",
      "perpetua prosperitate, dulcissime amice.\n",
      "\n",
      " \n",
      "\n",
      "15\n",
      "\n",
      "3\n",
      "\f",
      "\n"
     ]
    }
   ],
   "source": [
    "print (ocr_result_original)"
   ]
  },
  {
   "cell_type": "code",
   "execution_count": null,
   "id": "b2382102-c778-4342-9f52-b16c80024db3",
   "metadata": {},
   "outputs": [],
   "source": []
  }
 ],
 "metadata": {
  "kernelspec": {
   "display_name": "Python 3 (ipykernel)",
   "language": "python",
   "name": "python3"
  },
  "language_info": {
   "codemirror_mode": {
    "name": "ipython",
    "version": 3
   },
   "file_extension": ".py",
   "mimetype": "text/x-python",
   "name": "python",
   "nbconvert_exporter": "python",
   "pygments_lexer": "ipython3",
   "version": "3.11.5"
  }
 },
 "nbformat": 4,
 "nbformat_minor": 5
}
